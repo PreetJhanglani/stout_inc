{
 "cells": [
  {
   "cell_type": "markdown",
   "id": "5050fac2-d709-406b-8e2e-d4b8fc0ff228",
   "metadata": {},
   "source": [
    "### 1) Importing required packages"
   ]
  },
  {
   "cell_type": "code",
   "execution_count": 2,
   "id": "9fa08995-1c11-4da9-956c-341bc73426e6",
   "metadata": {},
   "outputs": [],
   "source": [
    "import pandas as pd\n",
    "import numpy as np\n",
    "import matplotlib.pyplot as plt\n",
    "import seaborn as sns\n",
    "from copy import deepcopy\n",
    "%matplotlib inline"
   ]
  },
  {
   "cell_type": "code",
   "execution_count": 4,
   "id": "b55b6d57-faf9-48d0-86db-8aa74698b0d9",
   "metadata": {},
   "outputs": [
    {
     "data": {
      "text/html": [
       "<div>\n",
       "<style scoped>\n",
       "    .dataframe tbody tr th:only-of-type {\n",
       "        vertical-align: middle;\n",
       "    }\n",
       "\n",
       "    .dataframe tbody tr th {\n",
       "        vertical-align: top;\n",
       "    }\n",
       "\n",
       "    .dataframe thead th {\n",
       "        text-align: right;\n",
       "    }\n",
       "</style>\n",
       "<table border=\"1\" class=\"dataframe\">\n",
       "  <thead>\n",
       "    <tr style=\"text-align: right;\">\n",
       "      <th></th>\n",
       "      <th>customer_email</th>\n",
       "      <th>net_revenue</th>\n",
       "      <th>year</th>\n",
       "    </tr>\n",
       "  </thead>\n",
       "  <tbody>\n",
       "    <tr>\n",
       "      <th>0</th>\n",
       "      <td>nhknapwsbx@gmail.com</td>\n",
       "      <td>249.92</td>\n",
       "      <td>2015</td>\n",
       "    </tr>\n",
       "    <tr>\n",
       "      <th>1</th>\n",
       "      <td>joiuzbvcpn@gmail.com</td>\n",
       "      <td>87.61</td>\n",
       "      <td>2015</td>\n",
       "    </tr>\n",
       "    <tr>\n",
       "      <th>2</th>\n",
       "      <td>ukkjctepxt@gmail.com</td>\n",
       "      <td>168.38</td>\n",
       "      <td>2015</td>\n",
       "    </tr>\n",
       "    <tr>\n",
       "      <th>3</th>\n",
       "      <td>gykatilzrt@gmail.com</td>\n",
       "      <td>62.40</td>\n",
       "      <td>2015</td>\n",
       "    </tr>\n",
       "    <tr>\n",
       "      <th>4</th>\n",
       "      <td>mmsgsrtxah@gmail.com</td>\n",
       "      <td>43.08</td>\n",
       "      <td>2015</td>\n",
       "    </tr>\n",
       "    <tr>\n",
       "      <th>...</th>\n",
       "      <td>...</td>\n",
       "      <td>...</td>\n",
       "      <td>...</td>\n",
       "    </tr>\n",
       "    <tr>\n",
       "      <th>685922</th>\n",
       "      <td>qzqttwiftu@gmail.com</td>\n",
       "      <td>184.58</td>\n",
       "      <td>2017</td>\n",
       "    </tr>\n",
       "    <tr>\n",
       "      <th>685923</th>\n",
       "      <td>pjodiifjop@gmail.com</td>\n",
       "      <td>133.03</td>\n",
       "      <td>2017</td>\n",
       "    </tr>\n",
       "    <tr>\n",
       "      <th>685924</th>\n",
       "      <td>appaplmgko@gmail.com</td>\n",
       "      <td>200.98</td>\n",
       "      <td>2017</td>\n",
       "    </tr>\n",
       "    <tr>\n",
       "      <th>685925</th>\n",
       "      <td>wvkpmwsgck@gmail.com</td>\n",
       "      <td>235.35</td>\n",
       "      <td>2017</td>\n",
       "    </tr>\n",
       "    <tr>\n",
       "      <th>685926</th>\n",
       "      <td>aregboumbw@gmail.com</td>\n",
       "      <td>208.43</td>\n",
       "      <td>2017</td>\n",
       "    </tr>\n",
       "  </tbody>\n",
       "</table>\n",
       "<p>685927 rows × 3 columns</p>\n",
       "</div>"
      ],
      "text/plain": [
       "               customer_email  net_revenue  year\n",
       "0        nhknapwsbx@gmail.com       249.92  2015\n",
       "1        joiuzbvcpn@gmail.com        87.61  2015\n",
       "2        ukkjctepxt@gmail.com       168.38  2015\n",
       "3        gykatilzrt@gmail.com        62.40  2015\n",
       "4        mmsgsrtxah@gmail.com        43.08  2015\n",
       "...                       ...          ...   ...\n",
       "685922   qzqttwiftu@gmail.com       184.58  2017\n",
       "685923   pjodiifjop@gmail.com       133.03  2017\n",
       "685924   appaplmgko@gmail.com       200.98  2017\n",
       "685925   wvkpmwsgck@gmail.com       235.35  2017\n",
       "685926   aregboumbw@gmail.com       208.43  2017\n",
       "\n",
       "[685927 rows x 3 columns]"
      ]
     },
     "execution_count": 4,
     "metadata": {},
     "output_type": "execute_result"
    }
   ],
   "source": [
    "data = pd.read_csv(\"casestudy.csv\", index_col=0)\n",
    "data"
   ]
  },
  {
   "cell_type": "code",
   "execution_count": 10,
   "id": "8136d1e6-3ebe-4870-ac1b-4fb4f1184ac5",
   "metadata": {},
   "outputs": [
    {
     "data": {
      "text/plain": [
       "wtbxliuywf@gmail.com     3\n",
       "leafpkocos@gmail.com     3\n",
       "yutbpprfrj@gmail.com     3\n",
       "pwllhvbpzv@gmail.com     3\n",
       "ofysynyagn@gmail.com     3\n",
       "                        ..\n",
       " jzkxvcumhr@gmail.com    1\n",
       "gknvzmmwxi@gmail.com     1\n",
       "qjxzeiurgm@gmail.com     1\n",
       " srhiqoyxrk@gmail.com    1\n",
       " aregboumbw@gmail.com    1\n",
       "Name: customer_email, Length: 604618, dtype: int64"
      ]
     },
     "execution_count": 10,
     "metadata": {},
     "output_type": "execute_result"
    }
   ],
   "source": [
    "data.customer_email.value_counts()"
   ]
  },
  {
   "cell_type": "markdown",
   "id": "2af22cab-7429-4edd-a433-c1bbb7cc31a4",
   "metadata": {},
   "source": [
    "## For 2015"
   ]
  },
  {
   "cell_type": "code",
   "execution_count": 9,
   "id": "4c692993-481f-4de6-9bbd-05da15fd5c0e",
   "metadata": {},
   "outputs": [
    {
     "data": {
      "text/plain": [
       "2017    249987\n",
       "2015    231294\n",
       "2016    204646\n",
       "Name: year, dtype: int64"
      ]
     },
     "execution_count": 9,
     "metadata": {},
     "output_type": "execute_result"
    }
   ],
   "source": [
    "data.year.value_counts()"
   ]
  },
  {
   "cell_type": "code",
   "execution_count": 6,
   "id": "8d8278d4-87be-424d-9ed4-306cb2652a58",
   "metadata": {},
   "outputs": [
    {
     "data": {
      "text/html": [
       "<div>\n",
       "<style scoped>\n",
       "    .dataframe tbody tr th:only-of-type {\n",
       "        vertical-align: middle;\n",
       "    }\n",
       "\n",
       "    .dataframe tbody tr th {\n",
       "        vertical-align: top;\n",
       "    }\n",
       "\n",
       "    .dataframe thead th {\n",
       "        text-align: right;\n",
       "    }\n",
       "</style>\n",
       "<table border=\"1\" class=\"dataframe\">\n",
       "  <thead>\n",
       "    <tr style=\"text-align: right;\">\n",
       "      <th></th>\n",
       "      <th>customer_email</th>\n",
       "      <th>net_revenue</th>\n",
       "      <th>year</th>\n",
       "    </tr>\n",
       "  </thead>\n",
       "  <tbody>\n",
       "    <tr>\n",
       "      <th>0</th>\n",
       "      <td>nhknapwsbx@gmail.com</td>\n",
       "      <td>249.92</td>\n",
       "      <td>2015</td>\n",
       "    </tr>\n",
       "    <tr>\n",
       "      <th>1</th>\n",
       "      <td>joiuzbvcpn@gmail.com</td>\n",
       "      <td>87.61</td>\n",
       "      <td>2015</td>\n",
       "    </tr>\n",
       "    <tr>\n",
       "      <th>2</th>\n",
       "      <td>ukkjctepxt@gmail.com</td>\n",
       "      <td>168.38</td>\n",
       "      <td>2015</td>\n",
       "    </tr>\n",
       "    <tr>\n",
       "      <th>3</th>\n",
       "      <td>gykatilzrt@gmail.com</td>\n",
       "      <td>62.40</td>\n",
       "      <td>2015</td>\n",
       "    </tr>\n",
       "    <tr>\n",
       "      <th>4</th>\n",
       "      <td>mmsgsrtxah@gmail.com</td>\n",
       "      <td>43.08</td>\n",
       "      <td>2015</td>\n",
       "    </tr>\n",
       "    <tr>\n",
       "      <th>...</th>\n",
       "      <td>...</td>\n",
       "      <td>...</td>\n",
       "      <td>...</td>\n",
       "    </tr>\n",
       "    <tr>\n",
       "      <th>231289</th>\n",
       "      <td>xtrpmgjbwp@gmail.com</td>\n",
       "      <td>216.89</td>\n",
       "      <td>2015</td>\n",
       "    </tr>\n",
       "    <tr>\n",
       "      <th>231290</th>\n",
       "      <td>peeorxpsbr@gmail.com</td>\n",
       "      <td>39.16</td>\n",
       "      <td>2015</td>\n",
       "    </tr>\n",
       "    <tr>\n",
       "      <th>231291</th>\n",
       "      <td>vanasezjpw@gmail.com</td>\n",
       "      <td>233.46</td>\n",
       "      <td>2015</td>\n",
       "    </tr>\n",
       "    <tr>\n",
       "      <th>231292</th>\n",
       "      <td>dnpremlztb@gmail.com</td>\n",
       "      <td>136.27</td>\n",
       "      <td>2015</td>\n",
       "    </tr>\n",
       "    <tr>\n",
       "      <th>231293</th>\n",
       "      <td>qsgswrpycl@gmail.com</td>\n",
       "      <td>60.24</td>\n",
       "      <td>2015</td>\n",
       "    </tr>\n",
       "  </tbody>\n",
       "</table>\n",
       "<p>231294 rows × 3 columns</p>\n",
       "</div>"
      ],
      "text/plain": [
       "               customer_email  net_revenue  year\n",
       "0        nhknapwsbx@gmail.com       249.92  2015\n",
       "1        joiuzbvcpn@gmail.com        87.61  2015\n",
       "2        ukkjctepxt@gmail.com       168.38  2015\n",
       "3        gykatilzrt@gmail.com        62.40  2015\n",
       "4        mmsgsrtxah@gmail.com        43.08  2015\n",
       "...                       ...          ...   ...\n",
       "231289   xtrpmgjbwp@gmail.com       216.89  2015\n",
       "231290   peeorxpsbr@gmail.com        39.16  2015\n",
       "231291   vanasezjpw@gmail.com       233.46  2015\n",
       "231292   dnpremlztb@gmail.com       136.27  2015\n",
       "231293   qsgswrpycl@gmail.com        60.24  2015\n",
       "\n",
       "[231294 rows x 3 columns]"
      ]
     },
     "execution_count": 6,
     "metadata": {},
     "output_type": "execute_result"
    }
   ],
   "source": [
    "data_15 = data[data.year == 2015]\n",
    "data_15"
   ]
  },
  {
   "cell_type": "markdown",
   "id": "c46d0128-c7d1-4114-b12c-f98b16bfdf28",
   "metadata": {},
   "source": [
    "### Total revenue for current year"
   ]
  },
  {
   "cell_type": "code",
   "execution_count": 8,
   "id": "8115d84e-784e-4db1-9735-5d48cea50942",
   "metadata": {},
   "outputs": [
    {
     "name": "stdout",
     "output_type": "stream",
     "text": [
      "The Total revenue for 2015 is 29036749.189999994\n"
     ]
    }
   ],
   "source": [
    "print(\"The Total revenue for 2015 is {}\".format(data_15.net_revenue.sum()))"
   ]
  },
  {
   "cell_type": "markdown",
   "id": "bc3adef0-c481-4bf2-bc6c-c3f89a02144c",
   "metadata": {},
   "source": [
    "#### New Customer Revenue"
   ]
  },
  {
   "cell_type": "markdown",
   "id": "539bb496-a29a-4c20-b72f-2dd0dd9d36af",
   "metadata": {},
   "source": [
    "##### As we dont have data for 2014 we cant say anything about new customers in 2015."
   ]
  },
  {
   "cell_type": "markdown",
   "id": "32c00622-6634-4333-981f-4dac777245a7",
   "metadata": {},
   "source": [
    "#### Existing customers growth"
   ]
  },
  {
   "cell_type": "markdown",
   "id": "7728c16c-b18c-4746-bf3d-8491ce3acb3e",
   "metadata": {},
   "source": [
    "##### As we dont have data for 2014 we cant say anything about existing customers in 2015."
   ]
  },
  {
   "cell_type": "markdown",
   "id": "8342f78b-579a-4eff-a5d0-7b57f1f6f312",
   "metadata": {},
   "source": [
    "#### Revenue lost from attrition"
   ]
  },
  {
   "cell_type": "markdown",
   "id": "e9964591-b73f-402b-8f27-159af56b1b3d",
   "metadata": {},
   "source": [
    "##### As we dont have data for 2014 we cant say anything about new customers in 2015."
   ]
  },
  {
   "cell_type": "markdown",
   "id": "d886971a-3c86-4a29-9386-0e34dbb326a5",
   "metadata": {},
   "source": [
    "#### Existing Customer Revenue Current Year"
   ]
  },
  {
   "cell_type": "markdown",
   "id": "f4210e88-a4eb-427e-b12e-48741896b1c9",
   "metadata": {},
   "source": [
    "##### As we dont have data for 2014 we cant say anything about existing customers in 2015."
   ]
  },
  {
   "cell_type": "markdown",
   "id": "f1a67e64-3b5e-4273-bd31-698ae7d64bbd",
   "metadata": {},
   "source": [
    "#### Existing Customer Revenue Prior Year"
   ]
  },
  {
   "cell_type": "markdown",
   "id": "32a91986-f4ce-43af-9561-fde855532567",
   "metadata": {},
   "source": [
    "##### As we dont have data for 2014 we cant say anything about existing customers in 2015."
   ]
  },
  {
   "cell_type": "markdown",
   "id": "8d475f50-bb9b-45ce-910b-13083ccb5ef8",
   "metadata": {},
   "source": [
    "### Total Customers Current Year"
   ]
  },
  {
   "cell_type": "code",
   "execution_count": 24,
   "id": "e79d0923-7eaf-4a4b-aaf0-332988f99c68",
   "metadata": {},
   "outputs": [
    {
     "name": "stdout",
     "output_type": "stream",
     "text": [
      "The total number of unique customers for 2015 are: 231294\n"
     ]
    }
   ],
   "source": [
    "print(\"The total number of unique customers for 2015 are: {}\".format(len(pd.unique(data_15.customer_email))))"
   ]
  },
  {
   "cell_type": "markdown",
   "id": "686291b0-c052-4aac-84e6-482f5300cb33",
   "metadata": {},
   "source": [
    "#### Total Customers previous Year"
   ]
  },
  {
   "cell_type": "markdown",
   "id": "e5102f6e-3279-4ceb-a464-a109b6f079b2",
   "metadata": {},
   "source": [
    "##### As we dont have data for 2014 we cant say anything about existing customers in 2015."
   ]
  },
  {
   "cell_type": "markdown",
   "id": "682fce50-db81-4c54-bb52-bb9a5fdeb5e5",
   "metadata": {},
   "source": [
    "#### New Customers"
   ]
  },
  {
   "cell_type": "markdown",
   "id": "146a386a-2292-43ac-852b-d44999abd6f8",
   "metadata": {},
   "source": [
    "##### As we dont have data for 2014 we cant say anything about existing customers in 2015."
   ]
  },
  {
   "cell_type": "markdown",
   "id": "133af766-1a48-4821-8ef3-bbbe7510d193",
   "metadata": {},
   "source": [
    "#### Lost Customers"
   ]
  },
  {
   "cell_type": "markdown",
   "id": "2ee3dacb-0f8e-4f50-a892-a1fdd568412e",
   "metadata": {},
   "source": [
    "##### As we dont have data for 2014 we cant say anything about existing customers in 2015."
   ]
  },
  {
   "cell_type": "code",
   "execution_count": null,
   "id": "3da37684-b7eb-45f0-bc45-13bc8354c85f",
   "metadata": {},
   "outputs": [],
   "source": []
  },
  {
   "cell_type": "code",
   "execution_count": null,
   "id": "2058da5a-d730-4414-a3da-d67804e5737a",
   "metadata": {},
   "outputs": [],
   "source": []
  },
  {
   "cell_type": "markdown",
   "id": "1caafce9-59a2-425d-b0dc-d884392084bf",
   "metadata": {},
   "source": [
    "## For 2016"
   ]
  },
  {
   "cell_type": "code",
   "execution_count": 25,
   "id": "d749e60d-e37d-49d5-a65e-0e4358cc9c14",
   "metadata": {},
   "outputs": [
    {
     "data": {
      "text/html": [
       "<div>\n",
       "<style scoped>\n",
       "    .dataframe tbody tr th:only-of-type {\n",
       "        vertical-align: middle;\n",
       "    }\n",
       "\n",
       "    .dataframe tbody tr th {\n",
       "        vertical-align: top;\n",
       "    }\n",
       "\n",
       "    .dataframe thead th {\n",
       "        text-align: right;\n",
       "    }\n",
       "</style>\n",
       "<table border=\"1\" class=\"dataframe\">\n",
       "  <thead>\n",
       "    <tr style=\"text-align: right;\">\n",
       "      <th></th>\n",
       "      <th>customer_email</th>\n",
       "      <th>net_revenue</th>\n",
       "      <th>year</th>\n",
       "    </tr>\n",
       "  </thead>\n",
       "  <tbody>\n",
       "    <tr>\n",
       "      <th>231294</th>\n",
       "      <td>mwrossuukz@gmail.com</td>\n",
       "      <td>197.26</td>\n",
       "      <td>2016</td>\n",
       "    </tr>\n",
       "    <tr>\n",
       "      <th>231295</th>\n",
       "      <td>gkwsoupawk@gmail.com</td>\n",
       "      <td>38.28</td>\n",
       "      <td>2016</td>\n",
       "    </tr>\n",
       "    <tr>\n",
       "      <th>231296</th>\n",
       "      <td>vlyigtgfzs@gmail.com</td>\n",
       "      <td>154.57</td>\n",
       "      <td>2016</td>\n",
       "    </tr>\n",
       "    <tr>\n",
       "      <th>231297</th>\n",
       "      <td>yfirychuhk@gmail.com</td>\n",
       "      <td>102.47</td>\n",
       "      <td>2016</td>\n",
       "    </tr>\n",
       "    <tr>\n",
       "      <th>231298</th>\n",
       "      <td>trnzgqinuu@gmail.com</td>\n",
       "      <td>32.03</td>\n",
       "      <td>2016</td>\n",
       "    </tr>\n",
       "    <tr>\n",
       "      <th>...</th>\n",
       "      <td>...</td>\n",
       "      <td>...</td>\n",
       "      <td>...</td>\n",
       "    </tr>\n",
       "    <tr>\n",
       "      <th>435935</th>\n",
       "      <td>mezrjfkced@gmail.com</td>\n",
       "      <td>114.17</td>\n",
       "      <td>2016</td>\n",
       "    </tr>\n",
       "    <tr>\n",
       "      <th>435936</th>\n",
       "      <td>rdotspqdxi@gmail.com</td>\n",
       "      <td>169.79</td>\n",
       "      <td>2016</td>\n",
       "    </tr>\n",
       "    <tr>\n",
       "      <th>435937</th>\n",
       "      <td>fkweqlmmjw@gmail.com</td>\n",
       "      <td>79.71</td>\n",
       "      <td>2016</td>\n",
       "    </tr>\n",
       "    <tr>\n",
       "      <th>435938</th>\n",
       "      <td>pidugzoeej@gmail.com</td>\n",
       "      <td>116.80</td>\n",
       "      <td>2016</td>\n",
       "    </tr>\n",
       "    <tr>\n",
       "      <th>435939</th>\n",
       "      <td>kxqglfdktu@gmail.com</td>\n",
       "      <td>37.31</td>\n",
       "      <td>2016</td>\n",
       "    </tr>\n",
       "  </tbody>\n",
       "</table>\n",
       "<p>204646 rows × 3 columns</p>\n",
       "</div>"
      ],
      "text/plain": [
       "               customer_email  net_revenue  year\n",
       "231294   mwrossuukz@gmail.com       197.26  2016\n",
       "231295   gkwsoupawk@gmail.com        38.28  2016\n",
       "231296   vlyigtgfzs@gmail.com       154.57  2016\n",
       "231297   yfirychuhk@gmail.com       102.47  2016\n",
       "231298   trnzgqinuu@gmail.com        32.03  2016\n",
       "...                       ...          ...   ...\n",
       "435935   mezrjfkced@gmail.com       114.17  2016\n",
       "435936   rdotspqdxi@gmail.com       169.79  2016\n",
       "435937   fkweqlmmjw@gmail.com        79.71  2016\n",
       "435938   pidugzoeej@gmail.com       116.80  2016\n",
       "435939   kxqglfdktu@gmail.com        37.31  2016\n",
       "\n",
       "[204646 rows x 3 columns]"
      ]
     },
     "execution_count": 25,
     "metadata": {},
     "output_type": "execute_result"
    }
   ],
   "source": [
    "data_16 = data[data.year == 2016]\n",
    "data_16"
   ]
  },
  {
   "cell_type": "markdown",
   "id": "6e4e0e88-3ac1-4d29-a5c3-c3137910803e",
   "metadata": {},
   "source": [
    "### Total revenue for current year"
   ]
  },
  {
   "cell_type": "code",
   "execution_count": 26,
   "id": "0fe50a65-7574-41e4-8379-50276126f4d8",
   "metadata": {},
   "outputs": [
    {
     "name": "stdout",
     "output_type": "stream",
     "text": [
      "The Total revenue for 2016 is 25730943.59\n"
     ]
    }
   ],
   "source": [
    "print(\"The Total revenue for 2016 is {}\".format(data_16.net_revenue.sum()))"
   ]
  },
  {
   "cell_type": "markdown",
   "id": "b873f90d-ce83-4bac-b00b-689a12b67679",
   "metadata": {},
   "source": [
    "### New Customer Revenue"
   ]
  },
  {
   "cell_type": "code",
   "execution_count": 38,
   "id": "0d563743-c5d9-4916-bcf4-e3b859c112e9",
   "metadata": {},
   "outputs": [
    {
     "name": "stdout",
     "output_type": "stream",
     "text": [
      "The revenue from new customers in 2016 is 18245491.01\n"
     ]
    }
   ],
   "source": [
    "print(\"The revenue from new customers in 2016 is {}\".format(data_16[~data_16.customer_email.isin(data_15.customer_email)].net_revenue.sum()))"
   ]
  },
  {
   "cell_type": "markdown",
   "id": "61e4dba6-7d18-4147-9d03-84644b35c97b",
   "metadata": {},
   "source": [
    "#### Existing customers growth"
   ]
  },
  {
   "cell_type": "markdown",
   "id": "ad013ca6-28b4-4003-a859-8c8f5453b6e1",
   "metadata": {},
   "source": [
    "##### As we dont have data for 2014 we cant say anything about existing customers in 2015."
   ]
  },
  {
   "cell_type": "markdown",
   "id": "15bdc4d0-c154-481c-a779-ac51c6d4c892",
   "metadata": {},
   "source": [
    "#### Revenue lost from attrition"
   ]
  },
  {
   "cell_type": "code",
   "execution_count": 40,
   "id": "aa9d2fb1-55b7-45c5-bf0e-5fd5e92b3d86",
   "metadata": {},
   "outputs": [
    {
     "name": "stdout",
     "output_type": "stream",
     "text": [
      "The revenue lost from attrition in 2016 is 3305805.599999994\n"
     ]
    }
   ],
   "source": [
    "print(\"The revenue lost from attrition in 2016 is {}\".format(data_15.net_revenue.sum() - data_16.net_revenue.sum()))"
   ]
  },
  {
   "cell_type": "markdown",
   "id": "d1fef94b-45a5-4972-96c1-2b0c394053f7",
   "metadata": {},
   "source": [
    "#### Existing Customer Revenue Current Year"
   ]
  },
  {
   "cell_type": "code",
   "execution_count": 41,
   "id": "82c118be-d133-4cff-9748-980df0aee09e",
   "metadata": {},
   "outputs": [
    {
     "name": "stdout",
     "output_type": "stream",
     "text": [
      "The revenue from existing customers in 2016 is 7485452.58\n"
     ]
    }
   ],
   "source": [
    "print(\"The revenue from existing customers in 2016 is {}\".format(data_16[data_16.customer_email.isin(data_15.customer_email)].net_revenue.sum()))"
   ]
  },
  {
   "cell_type": "markdown",
   "id": "eb247e45-ef28-4543-abcc-c8ebc25d478e",
   "metadata": {},
   "source": [
    "#### Existing Customer Revenue Prior Year"
   ]
  },
  {
   "cell_type": "code",
   "execution_count": 42,
   "id": "40ac09e7-5e40-4d02-92aa-d188378da0ae",
   "metadata": {},
   "outputs": [
    {
     "name": "stdout",
     "output_type": "stream",
     "text": [
      "The revenue from existing customers in 2015 is 7465117.12\n"
     ]
    }
   ],
   "source": [
    "print(\"The revenue from existing customers in 2015 is {}\".format(data_15[data_15.customer_email.isin(data_16.customer_email)].net_revenue.sum()))"
   ]
  },
  {
   "cell_type": "markdown",
   "id": "01d1d767-21f6-4f6a-a16b-1cc5a027f102",
   "metadata": {},
   "source": [
    "### Total Customers Current Year"
   ]
  },
  {
   "cell_type": "code",
   "execution_count": 43,
   "id": "5c8a08c1-3bea-4e9f-a59b-554546fdcbe7",
   "metadata": {},
   "outputs": [
    {
     "name": "stdout",
     "output_type": "stream",
     "text": [
      "The total number of unique customers for 2016 are: 204646\n"
     ]
    }
   ],
   "source": [
    "print(\"The total number of unique customers for 2016 are: {}\".format(len(pd.unique(data_16.customer_email))))"
   ]
  },
  {
   "cell_type": "markdown",
   "id": "d6104f41-2a05-4389-850a-665d5c3decc5",
   "metadata": {},
   "source": [
    "#### Total Customers previous Year"
   ]
  },
  {
   "cell_type": "code",
   "execution_count": 44,
   "id": "1870a363-0cca-47cf-9d83-eeb06cfc4aaa",
   "metadata": {},
   "outputs": [
    {
     "name": "stdout",
     "output_type": "stream",
     "text": [
      "The total number of unique customers for 2015 are: 231294\n"
     ]
    }
   ],
   "source": [
    "print(\"The total number of unique customers for 2015 are: {}\".format(len(pd.unique(data_15.customer_email))))"
   ]
  },
  {
   "cell_type": "markdown",
   "id": "6a0e721c-7704-419c-854a-91c5d1d13905",
   "metadata": {},
   "source": [
    "#### New Customers"
   ]
  },
  {
   "cell_type": "code",
   "execution_count": 60,
   "id": "93c6c16c-cd17-4ddd-a01c-42f426198fa4",
   "metadata": {},
   "outputs": [
    {
     "data": {
      "text/html": [
       "<div>\n",
       "<style scoped>\n",
       "    .dataframe tbody tr th:only-of-type {\n",
       "        vertical-align: middle;\n",
       "    }\n",
       "\n",
       "    .dataframe tbody tr th {\n",
       "        vertical-align: top;\n",
       "    }\n",
       "\n",
       "    .dataframe thead th {\n",
       "        text-align: right;\n",
       "    }\n",
       "</style>\n",
       "<table border=\"1\" class=\"dataframe\">\n",
       "  <thead>\n",
       "    <tr style=\"text-align: right;\">\n",
       "      <th></th>\n",
       "      <th>customer_email</th>\n",
       "      <th>net_revenue</th>\n",
       "      <th>year</th>\n",
       "    </tr>\n",
       "  </thead>\n",
       "  <tbody>\n",
       "    <tr>\n",
       "      <th>231294</th>\n",
       "      <td>mwrossuukz@gmail.com</td>\n",
       "      <td>197.26</td>\n",
       "      <td>2016</td>\n",
       "    </tr>\n",
       "    <tr>\n",
       "      <th>231295</th>\n",
       "      <td>gkwsoupawk@gmail.com</td>\n",
       "      <td>38.28</td>\n",
       "      <td>2016</td>\n",
       "    </tr>\n",
       "    <tr>\n",
       "      <th>231296</th>\n",
       "      <td>vlyigtgfzs@gmail.com</td>\n",
       "      <td>154.57</td>\n",
       "      <td>2016</td>\n",
       "    </tr>\n",
       "    <tr>\n",
       "      <th>231297</th>\n",
       "      <td>yfirychuhk@gmail.com</td>\n",
       "      <td>102.47</td>\n",
       "      <td>2016</td>\n",
       "    </tr>\n",
       "    <tr>\n",
       "      <th>231298</th>\n",
       "      <td>trnzgqinuu@gmail.com</td>\n",
       "      <td>32.03</td>\n",
       "      <td>2016</td>\n",
       "    </tr>\n",
       "    <tr>\n",
       "      <th>...</th>\n",
       "      <td>...</td>\n",
       "      <td>...</td>\n",
       "      <td>...</td>\n",
       "    </tr>\n",
       "    <tr>\n",
       "      <th>435933</th>\n",
       "      <td>sqodpufunf@gmail.com</td>\n",
       "      <td>29.62</td>\n",
       "      <td>2016</td>\n",
       "    </tr>\n",
       "    <tr>\n",
       "      <th>435934</th>\n",
       "      <td>dcakqgznnm@gmail.com</td>\n",
       "      <td>146.47</td>\n",
       "      <td>2016</td>\n",
       "    </tr>\n",
       "    <tr>\n",
       "      <th>435936</th>\n",
       "      <td>rdotspqdxi@gmail.com</td>\n",
       "      <td>169.79</td>\n",
       "      <td>2016</td>\n",
       "    </tr>\n",
       "    <tr>\n",
       "      <th>435937</th>\n",
       "      <td>fkweqlmmjw@gmail.com</td>\n",
       "      <td>79.71</td>\n",
       "      <td>2016</td>\n",
       "    </tr>\n",
       "    <tr>\n",
       "      <th>435938</th>\n",
       "      <td>pidugzoeej@gmail.com</td>\n",
       "      <td>116.80</td>\n",
       "      <td>2016</td>\n",
       "    </tr>\n",
       "  </tbody>\n",
       "</table>\n",
       "<p>145062 rows × 3 columns</p>\n",
       "</div>"
      ],
      "text/plain": [
       "               customer_email  net_revenue  year\n",
       "231294   mwrossuukz@gmail.com       197.26  2016\n",
       "231295   gkwsoupawk@gmail.com        38.28  2016\n",
       "231296   vlyigtgfzs@gmail.com       154.57  2016\n",
       "231297   yfirychuhk@gmail.com       102.47  2016\n",
       "231298   trnzgqinuu@gmail.com        32.03  2016\n",
       "...                       ...          ...   ...\n",
       "435933   sqodpufunf@gmail.com        29.62  2016\n",
       "435934   dcakqgznnm@gmail.com       146.47  2016\n",
       "435936   rdotspqdxi@gmail.com       169.79  2016\n",
       "435937   fkweqlmmjw@gmail.com        79.71  2016\n",
       "435938   pidugzoeej@gmail.com       116.80  2016\n",
       "\n",
       "[145062 rows x 3 columns]"
      ]
     },
     "execution_count": 60,
     "metadata": {},
     "output_type": "execute_result"
    }
   ],
   "source": [
    "data_16[~data_16.customer_email.isin(data_15.customer_email)]"
   ]
  },
  {
   "cell_type": "markdown",
   "id": "c77bfaa1-5b57-48ed-bc13-7934530121bb",
   "metadata": {},
   "source": [
    "#### Lost Customers"
   ]
  },
  {
   "cell_type": "code",
   "execution_count": 47,
   "id": "1bb8ce85-48bc-4ec8-af7f-bf81b5ade019",
   "metadata": {},
   "outputs": [
    {
     "data": {
      "text/html": [
       "<div>\n",
       "<style scoped>\n",
       "    .dataframe tbody tr th:only-of-type {\n",
       "        vertical-align: middle;\n",
       "    }\n",
       "\n",
       "    .dataframe tbody tr th {\n",
       "        vertical-align: top;\n",
       "    }\n",
       "\n",
       "    .dataframe thead th {\n",
       "        text-align: right;\n",
       "    }\n",
       "</style>\n",
       "<table border=\"1\" class=\"dataframe\">\n",
       "  <thead>\n",
       "    <tr style=\"text-align: right;\">\n",
       "      <th></th>\n",
       "      <th>customer_email</th>\n",
       "      <th>net_revenue</th>\n",
       "      <th>year</th>\n",
       "    </tr>\n",
       "  </thead>\n",
       "  <tbody>\n",
       "    <tr>\n",
       "      <th>0</th>\n",
       "      <td>nhknapwsbx@gmail.com</td>\n",
       "      <td>249.92</td>\n",
       "      <td>2015</td>\n",
       "    </tr>\n",
       "    <tr>\n",
       "      <th>1</th>\n",
       "      <td>joiuzbvcpn@gmail.com</td>\n",
       "      <td>87.61</td>\n",
       "      <td>2015</td>\n",
       "    </tr>\n",
       "    <tr>\n",
       "      <th>2</th>\n",
       "      <td>ukkjctepxt@gmail.com</td>\n",
       "      <td>168.38</td>\n",
       "      <td>2015</td>\n",
       "    </tr>\n",
       "    <tr>\n",
       "      <th>3</th>\n",
       "      <td>gykatilzrt@gmail.com</td>\n",
       "      <td>62.40</td>\n",
       "      <td>2015</td>\n",
       "    </tr>\n",
       "    <tr>\n",
       "      <th>4</th>\n",
       "      <td>mmsgsrtxah@gmail.com</td>\n",
       "      <td>43.08</td>\n",
       "      <td>2015</td>\n",
       "    </tr>\n",
       "    <tr>\n",
       "      <th>...</th>\n",
       "      <td>...</td>\n",
       "      <td>...</td>\n",
       "      <td>...</td>\n",
       "    </tr>\n",
       "    <tr>\n",
       "      <th>231289</th>\n",
       "      <td>xtrpmgjbwp@gmail.com</td>\n",
       "      <td>216.89</td>\n",
       "      <td>2015</td>\n",
       "    </tr>\n",
       "    <tr>\n",
       "      <th>231290</th>\n",
       "      <td>peeorxpsbr@gmail.com</td>\n",
       "      <td>39.16</td>\n",
       "      <td>2015</td>\n",
       "    </tr>\n",
       "    <tr>\n",
       "      <th>231291</th>\n",
       "      <td>vanasezjpw@gmail.com</td>\n",
       "      <td>233.46</td>\n",
       "      <td>2015</td>\n",
       "    </tr>\n",
       "    <tr>\n",
       "      <th>231292</th>\n",
       "      <td>dnpremlztb@gmail.com</td>\n",
       "      <td>136.27</td>\n",
       "      <td>2015</td>\n",
       "    </tr>\n",
       "    <tr>\n",
       "      <th>231293</th>\n",
       "      <td>qsgswrpycl@gmail.com</td>\n",
       "      <td>60.24</td>\n",
       "      <td>2015</td>\n",
       "    </tr>\n",
       "  </tbody>\n",
       "</table>\n",
       "<p>171710 rows × 3 columns</p>\n",
       "</div>"
      ],
      "text/plain": [
       "               customer_email  net_revenue  year\n",
       "0        nhknapwsbx@gmail.com       249.92  2015\n",
       "1        joiuzbvcpn@gmail.com        87.61  2015\n",
       "2        ukkjctepxt@gmail.com       168.38  2015\n",
       "3        gykatilzrt@gmail.com        62.40  2015\n",
       "4        mmsgsrtxah@gmail.com        43.08  2015\n",
       "...                       ...          ...   ...\n",
       "231289   xtrpmgjbwp@gmail.com       216.89  2015\n",
       "231290   peeorxpsbr@gmail.com        39.16  2015\n",
       "231291   vanasezjpw@gmail.com       233.46  2015\n",
       "231292   dnpremlztb@gmail.com       136.27  2015\n",
       "231293   qsgswrpycl@gmail.com        60.24  2015\n",
       "\n",
       "[171710 rows x 3 columns]"
      ]
     },
     "execution_count": 47,
     "metadata": {},
     "output_type": "execute_result"
    }
   ],
   "source": [
    "data_15[~data_15.customer_email.isin(data_16.customer_email)]"
   ]
  },
  {
   "cell_type": "code",
   "execution_count": null,
   "id": "7990776a-882d-4bce-ba18-2e1dfbdf5dbf",
   "metadata": {},
   "outputs": [],
   "source": []
  },
  {
   "cell_type": "code",
   "execution_count": null,
   "id": "55a40ae7-1dfe-4157-b46e-4bf83de685f8",
   "metadata": {},
   "outputs": [],
   "source": []
  },
  {
   "cell_type": "markdown",
   "id": "f993c5ef-8daf-4545-b011-13d075bd87dd",
   "metadata": {},
   "source": [
    "## For 2017"
   ]
  },
  {
   "cell_type": "code",
   "execution_count": 48,
   "id": "4c17307d-c3c8-41c4-82c5-d3d8bfb58b00",
   "metadata": {},
   "outputs": [
    {
     "data": {
      "text/html": [
       "<div>\n",
       "<style scoped>\n",
       "    .dataframe tbody tr th:only-of-type {\n",
       "        vertical-align: middle;\n",
       "    }\n",
       "\n",
       "    .dataframe tbody tr th {\n",
       "        vertical-align: top;\n",
       "    }\n",
       "\n",
       "    .dataframe thead th {\n",
       "        text-align: right;\n",
       "    }\n",
       "</style>\n",
       "<table border=\"1\" class=\"dataframe\">\n",
       "  <thead>\n",
       "    <tr style=\"text-align: right;\">\n",
       "      <th></th>\n",
       "      <th>customer_email</th>\n",
       "      <th>net_revenue</th>\n",
       "      <th>year</th>\n",
       "    </tr>\n",
       "  </thead>\n",
       "  <tbody>\n",
       "    <tr>\n",
       "      <th>435940</th>\n",
       "      <td>mwrossuukz@gmail.com</td>\n",
       "      <td>96.61</td>\n",
       "      <td>2017</td>\n",
       "    </tr>\n",
       "    <tr>\n",
       "      <th>435941</th>\n",
       "      <td>qvjfterwnk@gmail.com</td>\n",
       "      <td>176.00</td>\n",
       "      <td>2017</td>\n",
       "    </tr>\n",
       "    <tr>\n",
       "      <th>435942</th>\n",
       "      <td>vlyigtgfzs@gmail.com</td>\n",
       "      <td>73.47</td>\n",
       "      <td>2017</td>\n",
       "    </tr>\n",
       "    <tr>\n",
       "      <th>435943</th>\n",
       "      <td>yfirychuhk@gmail.com</td>\n",
       "      <td>138.17</td>\n",
       "      <td>2017</td>\n",
       "    </tr>\n",
       "    <tr>\n",
       "      <th>435944</th>\n",
       "      <td>fdkiioqtli@gmail.com</td>\n",
       "      <td>156.87</td>\n",
       "      <td>2017</td>\n",
       "    </tr>\n",
       "    <tr>\n",
       "      <th>...</th>\n",
       "      <td>...</td>\n",
       "      <td>...</td>\n",
       "      <td>...</td>\n",
       "    </tr>\n",
       "    <tr>\n",
       "      <th>685922</th>\n",
       "      <td>qzqttwiftu@gmail.com</td>\n",
       "      <td>184.58</td>\n",
       "      <td>2017</td>\n",
       "    </tr>\n",
       "    <tr>\n",
       "      <th>685923</th>\n",
       "      <td>pjodiifjop@gmail.com</td>\n",
       "      <td>133.03</td>\n",
       "      <td>2017</td>\n",
       "    </tr>\n",
       "    <tr>\n",
       "      <th>685924</th>\n",
       "      <td>appaplmgko@gmail.com</td>\n",
       "      <td>200.98</td>\n",
       "      <td>2017</td>\n",
       "    </tr>\n",
       "    <tr>\n",
       "      <th>685925</th>\n",
       "      <td>wvkpmwsgck@gmail.com</td>\n",
       "      <td>235.35</td>\n",
       "      <td>2017</td>\n",
       "    </tr>\n",
       "    <tr>\n",
       "      <th>685926</th>\n",
       "      <td>aregboumbw@gmail.com</td>\n",
       "      <td>208.43</td>\n",
       "      <td>2017</td>\n",
       "    </tr>\n",
       "  </tbody>\n",
       "</table>\n",
       "<p>249987 rows × 3 columns</p>\n",
       "</div>"
      ],
      "text/plain": [
       "               customer_email  net_revenue  year\n",
       "435940   mwrossuukz@gmail.com        96.61  2017\n",
       "435941  qvjfterwnk@gmail.com        176.00  2017\n",
       "435942   vlyigtgfzs@gmail.com        73.47  2017\n",
       "435943   yfirychuhk@gmail.com       138.17  2017\n",
       "435944   fdkiioqtli@gmail.com       156.87  2017\n",
       "...                       ...          ...   ...\n",
       "685922   qzqttwiftu@gmail.com       184.58  2017\n",
       "685923   pjodiifjop@gmail.com       133.03  2017\n",
       "685924   appaplmgko@gmail.com       200.98  2017\n",
       "685925   wvkpmwsgck@gmail.com       235.35  2017\n",
       "685926   aregboumbw@gmail.com       208.43  2017\n",
       "\n",
       "[249987 rows x 3 columns]"
      ]
     },
     "execution_count": 48,
     "metadata": {},
     "output_type": "execute_result"
    }
   ],
   "source": [
    "data_17 = data[data.year == 2017]\n",
    "data_17"
   ]
  },
  {
   "cell_type": "markdown",
   "id": "ffe47c57-ba85-41af-bc72-4fb4dd314b84",
   "metadata": {},
   "source": [
    "### Total revenue for current year"
   ]
  },
  {
   "cell_type": "code",
   "execution_count": 49,
   "id": "d7741468-5c7c-4747-b0b0-e84634ca3971",
   "metadata": {},
   "outputs": [
    {
     "name": "stdout",
     "output_type": "stream",
     "text": [
      "The Total revenue for 2017 is 31417495.030000016\n"
     ]
    }
   ],
   "source": [
    "print(\"The Total revenue for 2017 is {}\".format(data_17.net_revenue.sum()))"
   ]
  },
  {
   "cell_type": "markdown",
   "id": "424ab74d-73aa-4bc9-9b25-6ca681b02218",
   "metadata": {},
   "source": [
    "### New Customer Revenue"
   ]
  },
  {
   "cell_type": "code",
   "execution_count": 50,
   "id": "8e25f010-2ca0-4062-a596-94350aa8c0e1",
   "metadata": {},
   "outputs": [
    {
     "name": "stdout",
     "output_type": "stream",
     "text": [
      "The revenue from new customers in 2017 is 28776235.039999995\n"
     ]
    }
   ],
   "source": [
    "print(\"The revenue from new customers in 2017 is {}\".format(data_17[~data_17.customer_email.isin(data_16.customer_email)].net_revenue.sum()))"
   ]
  },
  {
   "cell_type": "markdown",
   "id": "32d3fb42-6117-44cd-82a7-b47303812906",
   "metadata": {},
   "source": [
    "#### Existing customers growth"
   ]
  },
  {
   "cell_type": "code",
   "execution_count": 52,
   "id": "db6688f9-dc1c-4451-84e0-14ff01c0d00c",
   "metadata": {},
   "outputs": [
    {
     "name": "stdout",
     "output_type": "stream",
     "text": [
      "The existing customer growth for 2017 is -4844192.59\n"
     ]
    }
   ],
   "source": [
    "print(\"The existing customer growth for 2017 is {}\".format(data_17[data_17.customer_email.isin(data_16.customer_email)].net_revenue.sum() - data_16[data_16.customer_email.isin(data_15.customer_email)].net_revenue.sum()))"
   ]
  },
  {
   "cell_type": "markdown",
   "id": "b9cff53e-24bd-4fb1-84d5-9d8440a6a606",
   "metadata": {},
   "source": [
    "#### Revenue lost from attrition"
   ]
  },
  {
   "cell_type": "code",
   "execution_count": 53,
   "id": "4e95b735-fdcc-4cbe-91db-76a95cf56170",
   "metadata": {},
   "outputs": [
    {
     "name": "stdout",
     "output_type": "stream",
     "text": [
      "The revenue lost from attrition in 2017 is -5686551.440000016\n"
     ]
    }
   ],
   "source": [
    "print(\"The revenue lost from attrition in 2017 is {}\".format(data_16.net_revenue.sum() - data_17.net_revenue.sum()))"
   ]
  },
  {
   "cell_type": "markdown",
   "id": "caf012e3-081a-46d1-a906-1bee799984e8",
   "metadata": {},
   "source": [
    "#### Existing Customer Revenue Current Year"
   ]
  },
  {
   "cell_type": "code",
   "execution_count": 54,
   "id": "85735eca-07db-4a3c-b956-c8d7c7be5eb9",
   "metadata": {},
   "outputs": [
    {
     "name": "stdout",
     "output_type": "stream",
     "text": [
      "The revenue from existing customers in 2017 is 2641259.99\n"
     ]
    }
   ],
   "source": [
    "print(\"The revenue from existing customers in 2017 is {}\".format(data_17[data_17.customer_email.isin(data_16.customer_email)].net_revenue.sum()))"
   ]
  },
  {
   "cell_type": "markdown",
   "id": "3a942a0e-1071-4d1a-a1ca-7e2bc4e07539",
   "metadata": {},
   "source": [
    "#### Existing Customer Revenue Prior Year"
   ]
  },
  {
   "cell_type": "code",
   "execution_count": 55,
   "id": "d6e40c30-a644-4270-8dab-1b0382481c68",
   "metadata": {},
   "outputs": [
    {
     "name": "stdout",
     "output_type": "stream",
     "text": [
      "The revenue from existing customers in 2016 is 2620648.65\n"
     ]
    }
   ],
   "source": [
    "print(\"The revenue from existing customers in 2016 is {}\".format(data_16[data_16.customer_email.isin(data_17.customer_email)].net_revenue.sum()))"
   ]
  },
  {
   "cell_type": "markdown",
   "id": "93eec146-b894-45b9-aca2-ca53c08e02d0",
   "metadata": {},
   "source": [
    "### Total Customers Current Year"
   ]
  },
  {
   "cell_type": "code",
   "execution_count": 56,
   "id": "0b6c1341-4bfb-45c8-9627-0210ee9ea0e4",
   "metadata": {},
   "outputs": [
    {
     "name": "stdout",
     "output_type": "stream",
     "text": [
      "The total number of unique customers for 2017 are: 249987\n"
     ]
    }
   ],
   "source": [
    "print(\"The total number of unique customers for 2017 are: {}\".format(len(pd.unique(data_17.customer_email))))"
   ]
  },
  {
   "cell_type": "markdown",
   "id": "9781a0eb-855a-4003-bd92-7db888e24356",
   "metadata": {},
   "source": [
    "#### Total Customers previous Year"
   ]
  },
  {
   "cell_type": "code",
   "execution_count": 57,
   "id": "9fabb82f-a9b3-4974-9e33-05a87e597148",
   "metadata": {},
   "outputs": [
    {
     "name": "stdout",
     "output_type": "stream",
     "text": [
      "The total number of unique customers for 2016 are: 204646\n"
     ]
    }
   ],
   "source": [
    "print(\"The total number of unique customers for 2016 are: {}\".format(len(pd.unique(data_16.customer_email))))"
   ]
  },
  {
   "cell_type": "markdown",
   "id": "5f744b2b-7f7c-4f2c-91ec-d62eb0cf52b5",
   "metadata": {},
   "source": [
    "#### New Customers"
   ]
  },
  {
   "cell_type": "code",
   "execution_count": 59,
   "id": "d18cf73e-15b5-406e-aba4-f98088361318",
   "metadata": {},
   "outputs": [
    {
     "data": {
      "text/html": [
       "<div>\n",
       "<style scoped>\n",
       "    .dataframe tbody tr th:only-of-type {\n",
       "        vertical-align: middle;\n",
       "    }\n",
       "\n",
       "    .dataframe tbody tr th {\n",
       "        vertical-align: top;\n",
       "    }\n",
       "\n",
       "    .dataframe thead th {\n",
       "        text-align: right;\n",
       "    }\n",
       "</style>\n",
       "<table border=\"1\" class=\"dataframe\">\n",
       "  <thead>\n",
       "    <tr style=\"text-align: right;\">\n",
       "      <th></th>\n",
       "      <th>customer_email</th>\n",
       "      <th>net_revenue</th>\n",
       "      <th>year</th>\n",
       "    </tr>\n",
       "  </thead>\n",
       "  <tbody>\n",
       "    <tr>\n",
       "      <th>435940</th>\n",
       "      <td>mwrossuukz@gmail.com</td>\n",
       "      <td>96.61</td>\n",
       "      <td>2017</td>\n",
       "    </tr>\n",
       "    <tr>\n",
       "      <th>435941</th>\n",
       "      <td>qvjfterwnk@gmail.com</td>\n",
       "      <td>176.00</td>\n",
       "      <td>2017</td>\n",
       "    </tr>\n",
       "    <tr>\n",
       "      <th>435942</th>\n",
       "      <td>vlyigtgfzs@gmail.com</td>\n",
       "      <td>73.47</td>\n",
       "      <td>2017</td>\n",
       "    </tr>\n",
       "    <tr>\n",
       "      <th>435943</th>\n",
       "      <td>yfirychuhk@gmail.com</td>\n",
       "      <td>138.17</td>\n",
       "      <td>2017</td>\n",
       "    </tr>\n",
       "    <tr>\n",
       "      <th>435944</th>\n",
       "      <td>fdkiioqtli@gmail.com</td>\n",
       "      <td>156.87</td>\n",
       "      <td>2017</td>\n",
       "    </tr>\n",
       "    <tr>\n",
       "      <th>...</th>\n",
       "      <td>...</td>\n",
       "      <td>...</td>\n",
       "      <td>...</td>\n",
       "    </tr>\n",
       "    <tr>\n",
       "      <th>685922</th>\n",
       "      <td>qzqttwiftu@gmail.com</td>\n",
       "      <td>184.58</td>\n",
       "      <td>2017</td>\n",
       "    </tr>\n",
       "    <tr>\n",
       "      <th>685923</th>\n",
       "      <td>pjodiifjop@gmail.com</td>\n",
       "      <td>133.03</td>\n",
       "      <td>2017</td>\n",
       "    </tr>\n",
       "    <tr>\n",
       "      <th>685924</th>\n",
       "      <td>appaplmgko@gmail.com</td>\n",
       "      <td>200.98</td>\n",
       "      <td>2017</td>\n",
       "    </tr>\n",
       "    <tr>\n",
       "      <th>685925</th>\n",
       "      <td>wvkpmwsgck@gmail.com</td>\n",
       "      <td>235.35</td>\n",
       "      <td>2017</td>\n",
       "    </tr>\n",
       "    <tr>\n",
       "      <th>685926</th>\n",
       "      <td>aregboumbw@gmail.com</td>\n",
       "      <td>208.43</td>\n",
       "      <td>2017</td>\n",
       "    </tr>\n",
       "  </tbody>\n",
       "</table>\n",
       "<p>229028 rows × 3 columns</p>\n",
       "</div>"
      ],
      "text/plain": [
       "               customer_email  net_revenue  year\n",
       "435940   mwrossuukz@gmail.com        96.61  2017\n",
       "435941  qvjfterwnk@gmail.com        176.00  2017\n",
       "435942   vlyigtgfzs@gmail.com        73.47  2017\n",
       "435943   yfirychuhk@gmail.com       138.17  2017\n",
       "435944   fdkiioqtli@gmail.com       156.87  2017\n",
       "...                       ...          ...   ...\n",
       "685922   qzqttwiftu@gmail.com       184.58  2017\n",
       "685923   pjodiifjop@gmail.com       133.03  2017\n",
       "685924   appaplmgko@gmail.com       200.98  2017\n",
       "685925   wvkpmwsgck@gmail.com       235.35  2017\n",
       "685926   aregboumbw@gmail.com       208.43  2017\n",
       "\n",
       "[229028 rows x 3 columns]"
      ]
     },
     "execution_count": 59,
     "metadata": {},
     "output_type": "execute_result"
    }
   ],
   "source": [
    "data_17[~data_17.customer_email.isin(data_16.customer_email)]"
   ]
  },
  {
   "cell_type": "markdown",
   "id": "96968d5d-0f58-4612-8f1f-d821b848bf2f",
   "metadata": {},
   "source": [
    "#### Lost Customers"
   ]
  },
  {
   "cell_type": "code",
   "execution_count": 61,
   "id": "5917449c-da3c-46c2-83de-1c2095d5aa6b",
   "metadata": {},
   "outputs": [
    {
     "data": {
      "text/html": [
       "<div>\n",
       "<style scoped>\n",
       "    .dataframe tbody tr th:only-of-type {\n",
       "        vertical-align: middle;\n",
       "    }\n",
       "\n",
       "    .dataframe tbody tr th {\n",
       "        vertical-align: top;\n",
       "    }\n",
       "\n",
       "    .dataframe thead th {\n",
       "        text-align: right;\n",
       "    }\n",
       "</style>\n",
       "<table border=\"1\" class=\"dataframe\">\n",
       "  <thead>\n",
       "    <tr style=\"text-align: right;\">\n",
       "      <th></th>\n",
       "      <th>customer_email</th>\n",
       "      <th>net_revenue</th>\n",
       "      <th>year</th>\n",
       "    </tr>\n",
       "  </thead>\n",
       "  <tbody>\n",
       "    <tr>\n",
       "      <th>231294</th>\n",
       "      <td>mwrossuukz@gmail.com</td>\n",
       "      <td>197.26</td>\n",
       "      <td>2016</td>\n",
       "    </tr>\n",
       "    <tr>\n",
       "      <th>231295</th>\n",
       "      <td>gkwsoupawk@gmail.com</td>\n",
       "      <td>38.28</td>\n",
       "      <td>2016</td>\n",
       "    </tr>\n",
       "    <tr>\n",
       "      <th>231296</th>\n",
       "      <td>vlyigtgfzs@gmail.com</td>\n",
       "      <td>154.57</td>\n",
       "      <td>2016</td>\n",
       "    </tr>\n",
       "    <tr>\n",
       "      <th>231297</th>\n",
       "      <td>yfirychuhk@gmail.com</td>\n",
       "      <td>102.47</td>\n",
       "      <td>2016</td>\n",
       "    </tr>\n",
       "    <tr>\n",
       "      <th>231298</th>\n",
       "      <td>trnzgqinuu@gmail.com</td>\n",
       "      <td>32.03</td>\n",
       "      <td>2016</td>\n",
       "    </tr>\n",
       "    <tr>\n",
       "      <th>...</th>\n",
       "      <td>...</td>\n",
       "      <td>...</td>\n",
       "      <td>...</td>\n",
       "    </tr>\n",
       "    <tr>\n",
       "      <th>435933</th>\n",
       "      <td>sqodpufunf@gmail.com</td>\n",
       "      <td>29.62</td>\n",
       "      <td>2016</td>\n",
       "    </tr>\n",
       "    <tr>\n",
       "      <th>435935</th>\n",
       "      <td>mezrjfkced@gmail.com</td>\n",
       "      <td>114.17</td>\n",
       "      <td>2016</td>\n",
       "    </tr>\n",
       "    <tr>\n",
       "      <th>435936</th>\n",
       "      <td>rdotspqdxi@gmail.com</td>\n",
       "      <td>169.79</td>\n",
       "      <td>2016</td>\n",
       "    </tr>\n",
       "    <tr>\n",
       "      <th>435938</th>\n",
       "      <td>pidugzoeej@gmail.com</td>\n",
       "      <td>116.80</td>\n",
       "      <td>2016</td>\n",
       "    </tr>\n",
       "    <tr>\n",
       "      <th>435939</th>\n",
       "      <td>kxqglfdktu@gmail.com</td>\n",
       "      <td>37.31</td>\n",
       "      <td>2016</td>\n",
       "    </tr>\n",
       "  </tbody>\n",
       "</table>\n",
       "<p>183687 rows × 3 columns</p>\n",
       "</div>"
      ],
      "text/plain": [
       "               customer_email  net_revenue  year\n",
       "231294   mwrossuukz@gmail.com       197.26  2016\n",
       "231295   gkwsoupawk@gmail.com        38.28  2016\n",
       "231296   vlyigtgfzs@gmail.com       154.57  2016\n",
       "231297   yfirychuhk@gmail.com       102.47  2016\n",
       "231298   trnzgqinuu@gmail.com        32.03  2016\n",
       "...                       ...          ...   ...\n",
       "435933   sqodpufunf@gmail.com        29.62  2016\n",
       "435935   mezrjfkced@gmail.com       114.17  2016\n",
       "435936   rdotspqdxi@gmail.com       169.79  2016\n",
       "435938   pidugzoeej@gmail.com       116.80  2016\n",
       "435939   kxqglfdktu@gmail.com        37.31  2016\n",
       "\n",
       "[183687 rows x 3 columns]"
      ]
     },
     "execution_count": 61,
     "metadata": {},
     "output_type": "execute_result"
    }
   ],
   "source": [
    "data_16[~data_16.customer_email.isin(data_17.customer_email)]"
   ]
  },
  {
   "cell_type": "code",
   "execution_count": null,
   "id": "29f7e0d3-648f-47b9-91d3-d8d321cc4f7e",
   "metadata": {},
   "outputs": [],
   "source": []
  }
 ],
 "metadata": {
  "kernelspec": {
   "display_name": "Python 3 (ipykernel)",
   "language": "python",
   "name": "python3"
  },
  "language_info": {
   "codemirror_mode": {
    "name": "ipython",
    "version": 3
   },
   "file_extension": ".py",
   "mimetype": "text/x-python",
   "name": "python",
   "nbconvert_exporter": "python",
   "pygments_lexer": "ipython3",
   "version": "3.9.7"
  }
 },
 "nbformat": 4,
 "nbformat_minor": 5
}
